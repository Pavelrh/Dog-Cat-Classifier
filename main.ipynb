{
 "cells": [
  {
   "cell_type": "code",
   "execution_count": 2,
   "id": "47aae613-42ef-446d-a698-2e8916223d19",
   "metadata": {},
   "outputs": [],
   "source": [
    "import numpy\n",
    "from keras.models import Sequential\n",
    "from keras.layers import Conv2D, MaxPooling2D, Dense, Flatten\n"
   ]
  },
  {
   "cell_type": "markdown",
   "id": "ce4fa5e9",
   "metadata": {},
   "source": [
    "Loading my dataset in."
   ]
  },
  {
   "cell_type": "code",
   "execution_count": 7,
   "id": "417c4fc5",
   "metadata": {},
   "outputs": [],
   "source": [
    "X_train = numpy.loadtxt('input.csv', delimiter= ',')\n",
    "Y_train = numpy.loadtxt('labels.csv', delimiter= ',')\n",
    "\n",
    "# apparently the delimiter separates values with the specified character\n",
    "X_test = numpy.loadtxt('input_test.csv', delimiter= ',')\n",
    "Y_test = numpy.loadtxt('labels_test.csv', delimiter= ',')"
   ]
  },
  {
   "cell_type": "code",
   "execution_count": null,
   "id": "2bbda8c2",
   "metadata": {},
   "outputs": [],
   "source": []
  }
 ],
 "metadata": {
  "kernelspec": {
   "display_name": "Python 3 (ipykernel)",
   "language": "python",
   "name": "python3"
  },
  "language_info": {
   "codemirror_mode": {
    "name": "ipython",
    "version": 3
   },
   "file_extension": ".py",
   "mimetype": "text/x-python",
   "name": "python",
   "nbconvert_exporter": "python",
   "pygments_lexer": "ipython3",
   "version": "3.11.9"
  }
 },
 "nbformat": 4,
 "nbformat_minor": 5
}
